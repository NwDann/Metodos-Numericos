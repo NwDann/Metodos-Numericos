{
 "cells": [
  {
   "cell_type": "raw",
   "id": "9fb6daa6-4000-4088-a163-9075a1e5e2d3",
   "metadata": {},
   "source": [
    "---\n",
    "title: \"Tarea 5\"\n",
    "author: \"Danny Iñaguazo\"\n",
    "lang: es\n",
    "format: \n",
    "  pdf:\n",
    "    toc: true\n",
    "    toc-title: \"Tabla de Contenidos\"  \n",
    "execute:\n",
    "  echo: true\n",
    "  error: false\n",
    "  warning: false\n",
    "jupyter: python3\n",
    "---"
   ]
  },
  {
   "cell_type": "markdown",
   "id": "1fe8e4e0-820d-42a1-bfe4-8a3c0b049b1e",
   "metadata": {},
   "source": [
    "\n",
    "# Conjunto de ejercicios\n",
    "\n"
   ]
  },
  {
   "cell_type": "markdown",
   "id": "bf8fab55-e750-4251-9baa-5e984495630d",
   "metadata": {},
   "source": [
    "\n",
    "Para los siguientes ejercicios, utilizaremos la librería scipy, que incluye el método de la secante y newton.\n"
   ]
  },
  {
   "cell_type": "code",
   "execution_count": 285,
   "id": "6629b53f-0817-4377-9db2-3879cf7f750e",
   "metadata": {},
   "outputs": [],
   "source": [
    "from scipy.optimize import newton\n",
    "import math"
   ]
  },
  {
   "cell_type": "markdown",
   "id": "7b528963-b3ac-4cf9-a8d5-9a49fc4c2cf8",
   "metadata": {},
   "source": [
    "\n",
    "En los próximos ejercicios, entenderemos cómo solo este módulo implementa los dos métodos.\n",
    "\n",
    "## Ejercicio 1\n",
    "\n",
    "Sea $f(x) = -x^3 - \\cos{x}$ y $p_0 = -1$. Use el método de Newton y de la Secante para encontrar $p_1$. ¿Se podría\n",
    "usar $p_0 = 0$?\n",
    "\n",
    "Para el método de newton, necesitamos la derivada de la función anterior. Como resultado: $f'(x) = -3x^2 + \\sin{x}$\n",
    "\n",
    "Llamamos a la función Newton con los parámetros que tenemos:\n"
   ]
  },
  {
   "cell_type": "code",
   "execution_count": 287,
   "id": "8d45e085-e280-433d-8064-3c787e984412",
   "metadata": {
    "tags": []
   },
   "outputs": [
    {
     "name": "stdout",
     "output_type": "stream",
     "text": [
      "-0.8654740331016144\n"
     ]
    }
   ],
   "source": [
    "def fprime(x):\n",
    "    return -3*x**2 + math.sin(x)\n",
    "\n",
    "p1 = newton(func = lambda x : -x**3 - math.cos(x), x0 = -1, fprime = fprime)\n",
    "print(p1)"
   ]
  },
  {
   "cell_type": "markdown",
   "id": "d53d48a2-dfeb-424c-bdf1-ed1dac1590a7",
   "metadata": {},
   "source": [
    "\n",
    "Para el método de la secante, no necesitamos la derivada de la función.\n"
   ]
  },
  {
   "cell_type": "code",
   "execution_count": 289,
   "id": "4ce82d06-f155-4851-8e62-9463825e2ce7",
   "metadata": {
    "tags": []
   },
   "outputs": [
    {
     "name": "stdout",
     "output_type": "stream",
     "text": [
      "-0.8654740331016144\n"
     ]
    }
   ],
   "source": [
    "p1 = newton(func = lambda x : -x**3 - math.cos(x), x0 = -1)\n",
    "print(p1)"
   ]
  },
  {
   "cell_type": "markdown",
   "id": "31939895-be8f-45ea-948d-4ae976a4230e",
   "metadata": {},
   "source": [
    "\n",
    "Finalmente, el cero como punto aproximado es una mala elección. Para el método de newton, esto implica que en $p_0 = 0$ la derivada sea cero, algo no permitido. En la secante, este punto produce complicaciones por la presencia de multiplicaciones para cero.\n"
   ]
  },
  {
   "cell_type": "code",
   "execution_count": 291,
   "id": "5ef41e67-3fa9-482c-a69b-ec0cf948d1a2",
   "metadata": {
    "tags": []
   },
   "outputs": [
    {
     "name": "stdout",
     "output_type": "stream",
     "text": [
      "-4.998000183473029e-09\n"
     ]
    }
   ],
   "source": [
    "p1 = newton(func = lambda x : -x**3 - math.cos(x), x0 = 0)\n",
    "print(p1)"
   ]
  },
  {
   "cell_type": "markdown",
   "id": "f198c8dd-0b5c-40d4-8c9c-cd35b5870558",
   "metadata": {},
   "source": [
    "\n",
    "## Ejercicio 2\n",
    "\n",
    "Encuentre soluciones precisas dentro de $10^{-4}$ para los siguientes problemas.\n",
    "\n",
    "### Literal a)\n",
    "\n",
    "Para el intervalo $[1, 4]$ en la ecuación $x^3 - 2x^2 - 5 = 0$.\n",
    "\n",
    "Usamos el método de la secante:\n"
   ]
  },
  {
   "cell_type": "code",
   "execution_count": 293,
   "id": "0cbf69b4-450b-428e-a60e-f707f8edf987",
   "metadata": {
    "tags": []
   },
   "outputs": [
    {
     "name": "stdout",
     "output_type": "stream",
     "text": [
      "2.6906484961992585\n"
     ]
    }
   ],
   "source": [
    "p1 = newton(func = lambda x : x**3 - 2*x**2 - 5, x0 = 1, tol = 10e-4, x1 = 4)\n",
    "print(p1)"
   ]
  },
  {
   "cell_type": "markdown",
   "id": "13c18cc5-5230-4891-b4af-e08486b02340",
   "metadata": {},
   "source": [
    "\n",
    "### Literal b)\n",
    "\n",
    "Para el intervalo $[-3, -2]$ en la ecuación $x^3 + 3x^2 - 1 = 0$.\n",
    "\n",
    "Usamos el método de la secante:\n"
   ]
  },
  {
   "cell_type": "code",
   "execution_count": 295,
   "id": "31a77dd6-e341-4ada-b6d3-65b9b3e7b09e",
   "metadata": {
    "tags": []
   },
   "outputs": [
    {
     "name": "stdout",
     "output_type": "stream",
     "text": [
      "-2.879385194736809\n"
     ]
    }
   ],
   "source": [
    "p1 = newton(func = lambda x : x**3 + 3*x**2 - 1, x0 = -3, tol = 10e-4, x1 = -2)\n",
    "print(p1)"
   ]
  },
  {
   "cell_type": "markdown",
   "id": "76b4177b-5248-4208-9684-af0a119ca655",
   "metadata": {},
   "source": [
    "\n",
    "### Literal c)\n",
    "\n",
    "Para el intervalo $[0, \\frac{\\pi}{2}]$ en la ecuación $x - \\cos{x} = 0$.\n",
    "\n",
    "Usamos el método de la secante:\n"
   ]
  },
  {
   "cell_type": "code",
   "execution_count": 297,
   "id": "963f2baa-2b39-4e62-b838-be248d261abb",
   "metadata": {
    "tags": []
   },
   "outputs": [
    {
     "name": "stdout",
     "output_type": "stream",
     "text": [
      "0.7390834365030763\n"
     ]
    }
   ],
   "source": [
    "p1 = newton(func = lambda x : x - math.cos(x), x0 = 0, tol = 10e-4, x1 = math.pi/2)\n",
    "print(p1)"
   ]
  },
  {
   "cell_type": "markdown",
   "id": "7edd7b60-82c6-4c6b-b15a-c9fac4b1a82a",
   "metadata": {},
   "source": [
    "\n",
    "### Literal d)\n",
    "\n",
    "Para el intervalo $[0, \\frac{\\pi}{2}]$ en la ecuación $x - 0.8 - 0.2\\sin{x} = 0$.\n",
    "\n",
    "Usamos el método de la secante:\n"
   ]
  },
  {
   "cell_type": "code",
   "execution_count": 299,
   "id": "91f90e19-2301-42fc-a453-b08b8d61fe62",
   "metadata": {
    "tags": []
   },
   "outputs": [
    {
     "name": "stdout",
     "output_type": "stream",
     "text": [
      "0.9643338835706312\n"
     ]
    }
   ],
   "source": [
    "p1 = newton(func = lambda x : x - 0.8 - 0.2*math.sin(x), x0 = 0, tol = 10e-4, x1 = math.pi/2)\n",
    "print(p1)"
   ]
  },
  {
   "cell_type": "markdown",
   "id": "e7c46b33-08be-416f-ab48-1e4d90863b5f",
   "metadata": {
    "tags": []
   },
   "source": [
    "\n",
    "## Ejercicio 3\n",
    "\n",
    "Use los 2 métodos en esta sección para encontrar las soluciones dentro de $10^{-5}$ para los siguientes problemas.\n",
    "\n",
    "### Literal a)\n",
    "\n",
    "Para el intervalo $1 \\leq x \\leq 2$ en la ecuación $3x - e^{x} = 0$.\n",
    "\n",
    "Calculamos la derivada de la función, tal que: $3 - e^{x}$. Utilizamos el método de newton:\n"
   ]
  },
  {
   "cell_type": "code",
   "execution_count": 301,
   "id": "f83db230-13af-4ae4-9cfb-84e4f6f1bd2b",
   "metadata": {
    "tags": []
   },
   "outputs": [
    {
     "name": "stdout",
     "output_type": "stream",
     "text": [
      "0.6190612833553127\n"
     ]
    }
   ],
   "source": [
    "p1 = newton(func = lambda x : 3*x - math.exp(x), x0 = 1,\n",
    "           fprime = lambda x : 3 - math.exp(x), tol = 10e-5, x1 = 2)\n",
    "print(p1)"
   ]
  },
  {
   "cell_type": "markdown",
   "id": "da106eb2-017e-428d-9dac-637670427a11",
   "metadata": {},
   "source": [
    "\n",
    "Para el método de la secante:\n"
   ]
  },
  {
   "cell_type": "code",
   "execution_count": 303,
   "id": "6a05b4e5-25eb-478d-96e1-a8e9d90c833d",
   "metadata": {
    "tags": []
   },
   "outputs": [
    {
     "name": "stdout",
     "output_type": "stream",
     "text": [
      "1.5121345517620621\n"
     ]
    }
   ],
   "source": [
    "p1 = newton(func = lambda x : 3*x - math.exp(x), x0 = 1, tol = 10e-5, x1 = 2)\n",
    "print(p1)"
   ]
  },
  {
   "cell_type": "markdown",
   "id": "35d98aef-69e2-4651-b23f-97f78ab084ec",
   "metadata": {},
   "source": [
    "\n",
    "Los dos encontraron raíces diferentes, pero el método de newton encontró una fuera del intervalo dado, debido a que en uno de los puntos dado, la pendiente convergía hacia otra dirección (izquierda).\n",
    "\n",
    "### Literal b)\n",
    "\n",
    "Para el intervalo $1 \\leq x \\leq 2$ en la ecuación $2x + 3\\cos{x} - e^{x} = 0$.\n",
    "\n",
    "Calculamos la derivada de la función, tal que: $2 - 3\\sin{x} - e^{x}$. Utilizamos el método de newton:\n"
   ]
  },
  {
   "cell_type": "code",
   "execution_count": 305,
   "id": "3dc26ddd-0750-4c1e-8676-730f1904af6e",
   "metadata": {
    "tags": []
   },
   "outputs": [
    {
     "name": "stdout",
     "output_type": "stream",
     "text": [
      "1.2397146979752596\n"
     ]
    }
   ],
   "source": [
    "p1 = newton(func = lambda x : 2*x + 3*math.cos(x) - math.exp(x),\n",
    "            x0 = 1,\n",
    "           fprime = lambda x : 2 - 3*math.sin(x) - math.exp(x),\n",
    "            tol = 10e-5, x1 = 2)\n",
    "print(p1)"
   ]
  },
  {
   "cell_type": "markdown",
   "id": "89b5dec0-3b40-4ca6-bfe3-9a267444f67a",
   "metadata": {},
   "source": [
    "\n",
    "Para el método de la secante:\n"
   ]
  },
  {
   "cell_type": "code",
   "execution_count": 307,
   "id": "48b387ab-cc92-458e-af14-0b65a731e375",
   "metadata": {
    "tags": []
   },
   "outputs": [
    {
     "name": "stdout",
     "output_type": "stream",
     "text": [
      "1.2397146920815107\n"
     ]
    }
   ],
   "source": [
    "\n",
    "p1 = newton(func = lambda x : 2*x + 3*math.cos(x) - math.exp(x), \n",
    "            x0 = 1, tol = 10e-5, x1 = 2)\n",
    "print(p1)\n"
   ]
  },
  {
   "cell_type": "markdown",
   "id": "11f14141-6b85-4ab7-bd2a-cadb8bed6491",
   "metadata": {},
   "source": [
    "\n",
    "## Ejercicio 4\n",
    "\n",
    "El polinomio de cuarto grado\n",
    "\n",
    "$$f(x) = 230x^4 + 18x^3 + 9x^2 - 221x - 9$$\n",
    "\n",
    "tiene dos ceros reales, uno en $[-1, 0]$ y el otro en $[0, ]$. Intente aproximar estos ceros dentro de $10^{-6}$\n",
    "con:\n",
    "\n",
    "### Método de la secante\n",
    "\n",
    "El ejercicio nos pide usar los dos extremos como aproximaciones iniciales. Para el primer intervalo $[-1, 0]$:\n"
   ]
  },
  {
   "cell_type": "code",
   "execution_count": 309,
   "id": "51259cc0-82ff-4038-9e9b-fef2d9a4abf9",
   "metadata": {
    "tags": []
   },
   "outputs": [
    {
     "name": "stdout",
     "output_type": "stream",
     "text": [
      "-0.04065928497591696\n"
     ]
    }
   ],
   "source": [
    "p1 = newton(func = lambda x : 230*x**4 + 18*x**3 + 9*x**2 - 221*x - 9, \n",
    "            x0 = -1, tol = 10e-6, x1 = 0)\n",
    "print(p1)"
   ]
  },
  {
   "cell_type": "markdown",
   "id": "c1de6f38-0057-419c-9de5-bda2ab18cfd7",
   "metadata": {},
   "source": [
    "\n",
    "Para el segundo intervalo (El intervalo en la hoja original solo dispone de la aproximación 0, así que usamos 0.9 como aproximación):\n"
   ]
  },
  {
   "cell_type": "code",
   "execution_count": 311,
   "id": "83844812-570a-4f1f-90ba-37eaf796c31c",
   "metadata": {
    "tags": []
   },
   "outputs": [
    {
     "name": "stdout",
     "output_type": "stream",
     "text": [
      "0.9623984187477349\n"
     ]
    }
   ],
   "source": [
    "p1 = newton(func = lambda x : 230*x**4 + 18*x**3 + 9*x**2 - 221*x - 9, \n",
    "            x0 = 0.9, tol = 10e-6)\n",
    "print(p1)"
   ]
  },
  {
   "cell_type": "markdown",
   "id": "d8544c6b-6d4a-41a6-b1d4-1bd6640879a8",
   "metadata": {},
   "source": [
    "\n",
    "### Método de newton\n",
    "\n",
    "Primero calculamos la derivada:\n",
    "\n",
    "$$920x^3 + 54x^2 + 18x - 221$$\n",
    "\n",
    "El ejercicio nos pide usar la media de los extremos como aproximación inicial. Para el primer intervalo $[-1, 0]$ con su mediana $-0.5$:\n"
   ]
  },
  {
   "cell_type": "code",
   "execution_count": 313,
   "id": "cbd3ea03-a914-4bdb-8fd3-498989b4a650",
   "metadata": {
    "tags": []
   },
   "outputs": [
    {
     "name": "stdout",
     "output_type": "stream",
     "text": [
      "-0.04065928831575899\n"
     ]
    }
   ],
   "source": [
    "p1 = newton(func = lambda x : 230*x**4 + 18*x**3 + 9*x**2 - 221*x - 9,\n",
    "            x0 = -0.5,\n",
    "           fprime = lambda x : 920*x**3 + 54*x**2 + 18*x -221,\n",
    "            tol = 10e-6)\n",
    "print(p1)"
   ]
  },
  {
   "cell_type": "markdown",
   "id": "41c06a1b-3a40-40aa-ae76-645f5224685f",
   "metadata": {},
   "source": [
    "\n",
    "Para el segundo intervalo (El intervalo en la hoja original solo dispone de la aproximación 0, así que usamos 0.9 como aproximación):\n"
   ]
  },
  {
   "cell_type": "code",
   "execution_count": 315,
   "id": "cc59abdc-abe8-4f72-aa40-879cd31716f3",
   "metadata": {
    "tags": []
   },
   "outputs": [
    {
     "name": "stdout",
     "output_type": "stream",
     "text": [
      "0.9623984187505487\n"
     ]
    }
   ],
   "source": [
    "p1 = newton(func = lambda x : 230*x**4 + 18*x**3 + 9*x**2 - 221*x - 9,\n",
    "            x0 = 0.9,\n",
    "           fprime = lambda x : 920*x**3 + 54*x**2 + 18*x -221,\n",
    "            tol = 10e-6)\n",
    "print(p1)"
   ]
  },
  {
   "cell_type": "markdown",
   "id": "7835d0b3-02d6-40d3-a6ab-ef9415262630",
   "metadata": {},
   "source": [
    "\n",
    "## Ejercicio 5\n",
    "\n",
    "La función $f(x) = \\tan{\\pi x} - 6$ tiene cero en $(\\frac{1}{\\pi})$ arcotangente $6 \\approx 0.447431543$. Sea $p_0 = 0$ y $p_1 = 0.48$ y use 10 iteraciones en cada uno de los siguientes métodos para aproximar esta raíz. ¿Cuál método es más eficaz y por qué?\n",
    "\n",
    "### Método de la Bisección\n",
    "\n",
    "Necesitamos el código de la asignación anterior:\n"
   ]
  },
  {
   "cell_type": "code",
   "execution_count": 317,
   "id": "d0758a9b-abe4-410c-91cd-b2b41d8f5d64",
   "metadata": {
    "tags": []
   },
   "outputs": [],
   "source": [
    "def sign(x: float) -> int:\n",
    "    if x > 0:\n",
    "        return 1\n",
    "    elif x < 0:\n",
    "        return -1\n",
    "    else:\n",
    "        return 0\n",
    "    \n",
    "from typing import Callable\n",
    "\n",
    "def bisection(\n",
    "    a: float, b: float, *, equation: Callable[[float], float], N: int\n",
    ") -> tuple[float, int] | None:\n",
    "    i = 1\n",
    "    \n",
    "    assert a < b, \"a not lower than b, the interval is not valid.\"\n",
    "\n",
    "    assert (\n",
    "        equation(a) * equation(b) < 0\n",
    "    ), \"The function does not change sign over the interval.\"\n",
    "\n",
    "    Fa = equation(a)\n",
    "    p = a \n",
    "    for i in range(N + 1):\n",
    "        p = a + (b - a) / 2\n",
    "        FP = equation(p)\n",
    "        \n",
    "        if sign(Fa) * sign(FP) > 0:\n",
    "            a = p\n",
    "            Fa = FP\n",
    "            \n",
    "        else:\n",
    "            b = p\n",
    "\n",
    "    return p, i"
   ]
  },
  {
   "cell_type": "markdown",
   "id": "aeeb2831-a406-41bf-be7e-e88c5ec4c5f8",
   "metadata": {},
   "source": [
    "\n",
    "Usamos el método con los valores propuestos:\n"
   ]
  },
  {
   "cell_type": "code",
   "execution_count": 319,
   "id": "d57ef3d6-8ab5-4847-81a6-190bef6d6783",
   "metadata": {
    "tags": []
   },
   "outputs": [
    {
     "name": "stdout",
     "output_type": "stream",
     "text": [
      "Raíz resultante: 0.44742187499999997 en 10 iteraciones\n"
     ]
    }
   ],
   "source": [
    "p, i = bisection(a = 0, b = 0.48, \n",
    "                 equation =  lambda x : math.tan(math.pi*x) - 6,\n",
    "                N = 10)\n",
    "print(f\"Raíz resultante: {p} en {i} iteraciones\")"
   ]
  },
  {
   "cell_type": "markdown",
   "id": "47ad7ac0-5036-44f3-a5b5-1ca97e42a260",
   "metadata": {},
   "source": [
    "\n",
    "### Método de Newton\n",
    "\n",
    "Para este caso, necesitamos la derivada\n",
    "\n",
    "$$\\pi \\sec^2{\\pi x}$$\n",
    "\n",
    "y usamos el algoritmo:"
   ]
  },
  {
   "cell_type": "code",
   "execution_count": 321,
   "id": "daa6187b-2312-456b-be91-7e2bfb045c84",
   "metadata": {
    "tags": []
   },
   "outputs": [
    {
     "ename": "RuntimeError",
     "evalue": "Failed to converge after 10 iterations, value is 13.655012218324751.",
     "output_type": "error",
     "traceback": [
      "\u001b[1;31m---------------------------------------------------------------------------\u001b[0m",
      "\u001b[1;31mRuntimeError\u001b[0m                              Traceback (most recent call last)",
      "Cell \u001b[1;32mIn[321], line 1\u001b[0m\n\u001b[1;32m----> 1\u001b[0m p1 \u001b[38;5;241m=\u001b[39m newton(func \u001b[38;5;241m=\u001b[39m \u001b[38;5;28;01mlambda\u001b[39;00m x : math\u001b[38;5;241m.\u001b[39mtan(math\u001b[38;5;241m.\u001b[39mpi\u001b[38;5;241m*\u001b[39mx) \u001b[38;5;241m-\u001b[39m \u001b[38;5;241m6\u001b[39m,\n\u001b[0;32m      2\u001b[0m             x0 \u001b[38;5;241m=\u001b[39m \u001b[38;5;241m0\u001b[39m,\n\u001b[0;32m      3\u001b[0m            fprime \u001b[38;5;241m=\u001b[39m \u001b[38;5;28;01mlambda\u001b[39;00m x : math\u001b[38;5;241m.\u001b[39mpi\u001b[38;5;241m*\u001b[39m(\u001b[38;5;241m1\u001b[39m\u001b[38;5;241m/\u001b[39mmath\u001b[38;5;241m.\u001b[39mcos(math\u001b[38;5;241m.\u001b[39mpi\u001b[38;5;241m*\u001b[39mx))\u001b[38;5;241m*\u001b[39m\u001b[38;5;241m*\u001b[39m\u001b[38;5;241m2\u001b[39m,\n\u001b[0;32m      4\u001b[0m            maxiter \u001b[38;5;241m=\u001b[39m \u001b[38;5;241m10\u001b[39m, x1 \u001b[38;5;241m=\u001b[39m \u001b[38;5;241m0.48\u001b[39m)\n\u001b[0;32m      5\u001b[0m \u001b[38;5;28mprint\u001b[39m(p1)\n",
      "File \u001b[1;32m~\\anaconda3\\Lib\\site-packages\\scipy\\optimize\\_zeros_py.py:384\u001b[0m, in \u001b[0;36mnewton\u001b[1;34m(func, x0, fprime, args, tol, maxiter, fprime2, x1, rtol, full_output, disp)\u001b[0m\n\u001b[0;32m    381\u001b[0m \u001b[38;5;28;01mif\u001b[39;00m disp:\n\u001b[0;32m    382\u001b[0m     msg \u001b[38;5;241m=\u001b[39m (\u001b[38;5;124m\"\u001b[39m\u001b[38;5;124mFailed to converge after \u001b[39m\u001b[38;5;132;01m%d\u001b[39;00m\u001b[38;5;124m iterations, value is \u001b[39m\u001b[38;5;132;01m%s\u001b[39;00m\u001b[38;5;124m.\u001b[39m\u001b[38;5;124m\"\u001b[39m\n\u001b[0;32m    383\u001b[0m            \u001b[38;5;241m%\u001b[39m (itr \u001b[38;5;241m+\u001b[39m \u001b[38;5;241m1\u001b[39m, p))\n\u001b[1;32m--> 384\u001b[0m     \u001b[38;5;28;01mraise\u001b[39;00m \u001b[38;5;167;01mRuntimeError\u001b[39;00m(msg)\n\u001b[0;32m    386\u001b[0m \u001b[38;5;28;01mreturn\u001b[39;00m _results_select(full_output, (p, funcalls, itr \u001b[38;5;241m+\u001b[39m \u001b[38;5;241m1\u001b[39m, _ECONVERR))\n",
      "\u001b[1;31mRuntimeError\u001b[0m: Failed to converge after 10 iterations, value is 13.655012218324751."
     ]
    }
   ],
   "source": [
    "p1 = newton(func = lambda x : math.tan(math.pi*x) - 6,\n",
    "            x0 = 0,\n",
    "           fprime = lambda x : math.pi*(1/math.cos(math.pi*x))**2,\n",
    "           maxiter = 10, x1 = 0.48)\n",
    "print(p1)"
   ]
  },
  {
   "cell_type": "markdown",
   "id": "e21398fe-8555-4083-8df3-12148580c7ab",
   "metadata": {},
   "source": [
    "\n",
    "Uno de los errores es la pendiente que tiende a converger hacia los valores mínimos.\n",
    "\n",
    "### Método de la Secante\n",
    "\n",
    "Usamos el algoritmo con los parámetros:\n"
   ]
  },
  {
   "cell_type": "code",
   "execution_count": 322,
   "id": "175d148b-eb66-4f17-84ad-197950c1a8a2",
   "metadata": {
    "tags": []
   },
   "outputs": [
    {
     "ename": "RuntimeError",
     "evalue": "Failed to converge after 10 iterations, value is -3694.358600967476.",
     "output_type": "error",
     "traceback": [
      "\u001b[1;31m---------------------------------------------------------------------------\u001b[0m",
      "\u001b[1;31mRuntimeError\u001b[0m                              Traceback (most recent call last)",
      "Cell \u001b[1;32mIn[322], line 1\u001b[0m\n\u001b[1;32m----> 1\u001b[0m p1 \u001b[38;5;241m=\u001b[39m newton(func \u001b[38;5;241m=\u001b[39m \u001b[38;5;28;01mlambda\u001b[39;00m x : math\u001b[38;5;241m.\u001b[39mtan(math\u001b[38;5;241m.\u001b[39mpi\u001b[38;5;241m*\u001b[39mx) \u001b[38;5;241m-\u001b[39m \u001b[38;5;241m6\u001b[39m,\n\u001b[0;32m      2\u001b[0m             x0 \u001b[38;5;241m=\u001b[39m \u001b[38;5;241m0\u001b[39m, maxiter \u001b[38;5;241m=\u001b[39m \u001b[38;5;241m10\u001b[39m, x1 \u001b[38;5;241m=\u001b[39m \u001b[38;5;241m0.48\u001b[39m)\n\u001b[0;32m      3\u001b[0m \u001b[38;5;28mprint\u001b[39m(p1)\n",
      "File \u001b[1;32m~\\anaconda3\\Lib\\site-packages\\scipy\\optimize\\_zeros_py.py:384\u001b[0m, in \u001b[0;36mnewton\u001b[1;34m(func, x0, fprime, args, tol, maxiter, fprime2, x1, rtol, full_output, disp)\u001b[0m\n\u001b[0;32m    381\u001b[0m \u001b[38;5;28;01mif\u001b[39;00m disp:\n\u001b[0;32m    382\u001b[0m     msg \u001b[38;5;241m=\u001b[39m (\u001b[38;5;124m\"\u001b[39m\u001b[38;5;124mFailed to converge after \u001b[39m\u001b[38;5;132;01m%d\u001b[39;00m\u001b[38;5;124m iterations, value is \u001b[39m\u001b[38;5;132;01m%s\u001b[39;00m\u001b[38;5;124m.\u001b[39m\u001b[38;5;124m\"\u001b[39m\n\u001b[0;32m    383\u001b[0m            \u001b[38;5;241m%\u001b[39m (itr \u001b[38;5;241m+\u001b[39m \u001b[38;5;241m1\u001b[39m, p))\n\u001b[1;32m--> 384\u001b[0m     \u001b[38;5;28;01mraise\u001b[39;00m \u001b[38;5;167;01mRuntimeError\u001b[39;00m(msg)\n\u001b[0;32m    386\u001b[0m \u001b[38;5;28;01mreturn\u001b[39;00m _results_select(full_output, (p, funcalls, itr \u001b[38;5;241m+\u001b[39m \u001b[38;5;241m1\u001b[39m, _ECONVERR))\n",
      "\u001b[1;31mRuntimeError\u001b[0m: Failed to converge after 10 iterations, value is -3694.358600967476."
     ]
    }
   ],
   "source": [
    "p1 = newton(func = lambda x : math.tan(math.pi*x) - 6,\n",
    "            x0 = 0, maxiter = 10, x1 = 0.48)\n",
    "print(p1)"
   ]
  },
  {
   "cell_type": "markdown",
   "id": "fdfc50fe-130a-45df-a82b-7634cbfde638",
   "metadata": {},
   "source": [
    "\n",
    "Como conclusión, el método de la bisección es más efectivo en cuanto a hallar una raíz en la función. Las otras dos funciones tienden a manejarse en cuanto a pendiente o a una línea que entre corta el eje x, así que estos cálculos se salen del intervalo dado. Otra razón es la propia función, ya que no es continua respecto a los reales.\n",
    "\n",
    "## Ejercicio 6\n",
    "\n",
    "La función descrita por $f(x) = \\ln{(x^2 + 1)} - e^{0.4x}\\cos{\\pi x}$ tiene un número infinito de ceros.\n",
    "\n",
    "### Literal a)\n",
    "\n",
    "Determine, dentro de $10^{-6}$, el único cero negativo.\n",
    "\n",
    "Usamos el método de secante:\n"
   ]
  },
  {
   "cell_type": "code",
   "execution_count": 324,
   "id": "067f4d59-8334-4608-82d7-f1b8e7e97a5e",
   "metadata": {
    "tags": []
   },
   "outputs": [
    {
     "name": "stdout",
     "output_type": "stream",
     "text": [
      "-0.43414304724770203\n"
     ]
    }
   ],
   "source": [
    "p1 = newton(func = lambda x : math.log(x**2 + 1) - math.exp(0.4*x)*math.cos(math.pi*x),\n",
    "            x0 = -0.4, tol = 10e-6)\n",
    "print(p1)"
   ]
  },
  {
   "cell_type": "markdown",
   "id": "7d7f8bf4-1e65-4225-8f95-cd1e900170d0",
   "metadata": {},
   "source": [
    "\n",
    "### Literal b)\n",
    "\n",
    "Determine, dentro de $10^{-6}$, los cuatro ceros positivos más pequeños.\n",
    "\n",
    "Usamos el método de secante:\n"
   ]
  },
  {
   "cell_type": "code",
   "execution_count": 326,
   "id": "0d92e64b-338f-4f29-97c4-44af34c6dc57",
   "metadata": {
    "tags": []
   },
   "outputs": [
    {
     "name": "stdout",
     "output_type": "stream",
     "text": [
      "0.4506567478906115\n"
     ]
    }
   ],
   "source": [
    "p1 = newton(func = lambda x : math.log(x**2 + 1) - math.exp(0.4*x)*math.cos(math.pi*x),\n",
    "            x0 = 0.5, tol = 10e-6)\n",
    "print(p1)"
   ]
  },
  {
   "cell_type": "code",
   "execution_count": 328,
   "id": "0f248b40-f059-4ed4-8c58-f7235fa7374f",
   "metadata": {
    "tags": []
   },
   "outputs": [
    {
     "name": "stdout",
     "output_type": "stream",
     "text": [
      "1.7447380533760186\n"
     ]
    }
   ],
   "source": [
    "p1 = newton(func = lambda x : math.log(x**2 + 1) - math.exp(0.4*x)*math.cos(math.pi*x),\n",
    "            x0 = 1.5, tol = 10e-6)\n",
    "print(p1)"
   ]
  },
  {
   "cell_type": "code",
   "execution_count": 330,
   "id": "435682ed-3e6a-4bb0-b6f4-786ca662b5be",
   "metadata": {
    "tags": []
   },
   "outputs": [
    {
     "name": "stdout",
     "output_type": "stream",
     "text": [
      "2.238319795077607\n"
     ]
    }
   ],
   "source": [
    "p1 = newton(func = lambda x : math.log(x**2 + 1) - math.exp(0.4*x)*math.cos(math.pi*x),\n",
    "            x0 = 2.5, tol = 10e-6)\n",
    "print(p1)"
   ]
  },
  {
   "cell_type": "code",
   "execution_count": 332,
   "id": "c44b086c-1315-4a11-b0b4-9217147495c0",
   "metadata": {
    "tags": []
   },
   "outputs": [
    {
     "name": "stdout",
     "output_type": "stream",
     "text": [
      "3.709041201416693\n"
     ]
    }
   ],
   "source": [
    "p1 = newton(func = lambda x : math.log(x**2 + 1) - math.exp(0.4*x)*math.cos(math.pi*x),\n",
    "            x0 = 3.5, tol = 10e-6)\n",
    "print(p1)"
   ]
  },
  {
   "cell_type": "markdown",
   "id": "ca3c31e9-4a9d-4c85-892c-0e9d67f3b0f3",
   "metadata": {},
   "source": [
    "\n",
    "### Literal c)\n",
    "\n",
    "Determine una aproximación inicial razonable para encontrar el enésimo cero positivo más pequeño de $f$.\n",
    "\n",
    "Para este literal, se necesitó de unan gráfica, hecha en Geogebra.\n",
    "\n",
    "![Gráfica estimada de la función](DeLejos.png)\n",
    "\n",
    "Existen infinitas raíces positivas según el gráfico, la función tiene una forma de onda que va creciendo mientras x avanza. Necesitaríamos verlo más cerca.\n",
    "\n",
    "![Parte pequeña de la gráfica de la función](DeCerca.png)\n",
    "\n",
    "En esta imagen, podemos observar que las raíces tienden a estar cerca de un número entero + 0.5 infinitamente, por lo que podemos usar esto como punto de aproximación para encontrar la enésima raíz de esta función. La fórmula propuesta para encontrar la enésima raíz de la función es:\n",
    "\n",
    "$$n - 0.5$$\n",
    "\n",
    "Tal que $n$ representa una aproximación a la enésima raíz positiva, para $n \\in \\mathbb{N} - \\{0\\}$.\n",
    "\n",
    "### Literal d)\n",
    "\n",
    "Use la parte c) para determinar, dentro de $10^{-6}$, el vigesimoquinto (25) cero positivo más pequeño de $f$.\n",
    "\n",
    "Usamos la fórmula $n - 0.5$ con $n = 25$, tal que $(25) - 0.5 = 24.5$.\n",
    "\n",
    "El resultado lo empleamos como parámetro en el método de la secante:\n"
   ]
  },
  {
   "cell_type": "code",
   "execution_count": 334,
   "id": "2be0918c-cd21-4a39-8980-17b68474d7d9",
   "metadata": {
    "tags": []
   },
   "outputs": [
    {
     "name": "stdout",
     "output_type": "stream",
     "text": [
      "24.49988704757148\n"
     ]
    }
   ],
   "source": [
    "p1 = newton(func = lambda x : math.log(x**2 + 1) - math.exp(0.4*x)*math.cos(math.pi*x),\n",
    "            x0 = 24.5, tol = 10e-6)\n",
    "print(p1)"
   ]
  },
  {
   "cell_type": "markdown",
   "id": "38f01df6-6068-4a6d-93e7-b2cfd6380341",
   "metadata": {},
   "source": [
    "\n",
    "## Ejercicio 7\n",
    "\n",
    "La función $f(x) = x^{\\frac{1}{3}}$ tiene raíz en $x = 0$.Usando el punto de inicio de $x = 1$ y $p_0 = 5$, $p_1 = 0.5$ para el método de secante, compare los resultados de los métodos de la secante y de Newton.\n",
    "\n",
    "Para el método de newton, su derivada es: $\\frac{1}{3x^{\\frac{2}{3}}}$. Junto con los parámetros dados, llamados a la función de Newton\n"
   ]
  },
  {
   "cell_type": "code",
   "execution_count": 337,
   "id": "a7871267-ae48-49c1-b9c7-e610c61b25a0",
   "metadata": {
    "tags": []
   },
   "outputs": [
    {
     "name": "stderr",
     "output_type": "stream",
     "text": [
      "C:\\Users\\DyS\\AppData\\Local\\Temp\\ipykernel_500\\3932985158.py:1: RuntimeWarning: invalid value encountered in scalar power\n",
      "  p1 = newton(func = lambda x : x**(1/3), x0 = 1,\n",
      "C:\\Users\\DyS\\AppData\\Local\\Temp\\ipykernel_500\\3932985158.py:2: RuntimeWarning: invalid value encountered in scalar power\n",
      "  fprime = lambda x : 1 / (3*x**(2/3)))\n"
     ]
    },
    {
     "ename": "RuntimeError",
     "evalue": "Failed to converge after 50 iterations, value is nan.",
     "output_type": "error",
     "traceback": [
      "\u001b[1;31m---------------------------------------------------------------------------\u001b[0m",
      "\u001b[1;31mRuntimeError\u001b[0m                              Traceback (most recent call last)",
      "Cell \u001b[1;32mIn[337], line 1\u001b[0m\n\u001b[1;32m----> 1\u001b[0m p1 \u001b[38;5;241m=\u001b[39m newton(func \u001b[38;5;241m=\u001b[39m \u001b[38;5;28;01mlambda\u001b[39;00m x : x\u001b[38;5;241m*\u001b[39m\u001b[38;5;241m*\u001b[39m(\u001b[38;5;241m1\u001b[39m\u001b[38;5;241m/\u001b[39m\u001b[38;5;241m3\u001b[39m), x0 \u001b[38;5;241m=\u001b[39m \u001b[38;5;241m1\u001b[39m,\n\u001b[0;32m      2\u001b[0m             fprime \u001b[38;5;241m=\u001b[39m \u001b[38;5;28;01mlambda\u001b[39;00m x : \u001b[38;5;241m1\u001b[39m \u001b[38;5;241m/\u001b[39m (\u001b[38;5;241m3\u001b[39m\u001b[38;5;241m*\u001b[39mx\u001b[38;5;241m*\u001b[39m\u001b[38;5;241m*\u001b[39m(\u001b[38;5;241m2\u001b[39m\u001b[38;5;241m/\u001b[39m\u001b[38;5;241m3\u001b[39m)))\n\u001b[0;32m      3\u001b[0m \u001b[38;5;28mprint\u001b[39m(p1)\n",
      "File \u001b[1;32m~\\anaconda3\\Lib\\site-packages\\scipy\\optimize\\_zeros_py.py:384\u001b[0m, in \u001b[0;36mnewton\u001b[1;34m(func, x0, fprime, args, tol, maxiter, fprime2, x1, rtol, full_output, disp)\u001b[0m\n\u001b[0;32m    381\u001b[0m \u001b[38;5;28;01mif\u001b[39;00m disp:\n\u001b[0;32m    382\u001b[0m     msg \u001b[38;5;241m=\u001b[39m (\u001b[38;5;124m\"\u001b[39m\u001b[38;5;124mFailed to converge after \u001b[39m\u001b[38;5;132;01m%d\u001b[39;00m\u001b[38;5;124m iterations, value is \u001b[39m\u001b[38;5;132;01m%s\u001b[39;00m\u001b[38;5;124m.\u001b[39m\u001b[38;5;124m\"\u001b[39m\n\u001b[0;32m    383\u001b[0m            \u001b[38;5;241m%\u001b[39m (itr \u001b[38;5;241m+\u001b[39m \u001b[38;5;241m1\u001b[39m, p))\n\u001b[1;32m--> 384\u001b[0m     \u001b[38;5;28;01mraise\u001b[39;00m \u001b[38;5;167;01mRuntimeError\u001b[39;00m(msg)\n\u001b[0;32m    386\u001b[0m \u001b[38;5;28;01mreturn\u001b[39;00m _results_select(full_output, (p, funcalls, itr \u001b[38;5;241m+\u001b[39m \u001b[38;5;241m1\u001b[39m, _ECONVERR))\n",
      "\u001b[1;31mRuntimeError\u001b[0m: Failed to converge after 50 iterations, value is nan."
     ]
    }
   ],
   "source": [
    "p1 = newton(func = lambda x : x**(1/3), x0 = 1,\n",
    "            fprime = lambda x : 1 / (3*x**(2/3)))\n",
    "print(p1)"
   ]
  },
  {
   "cell_type": "markdown",
   "id": "c50a2599-8d84-4e25-9c04-70f343e03bad",
   "metadata": {},
   "source": [
    "\n",
    "Para el método de la secante, solo usamos los parámetros dados:\n"
   ]
  },
  {
   "cell_type": "code",
   "execution_count": 340,
   "id": "049a1937-b753-4801-af71-bf6e372702bb",
   "metadata": {
    "tags": []
   },
   "outputs": [
    {
     "name": "stderr",
     "output_type": "stream",
     "text": [
      "C:\\Users\\DyS\\AppData\\Local\\Temp\\ipykernel_500\\4142060945.py:1: RuntimeWarning: invalid value encountered in scalar power\n",
      "  p1 = newton(func = lambda x : x**(1/3) + 1, x0 = 1)\n"
     ]
    },
    {
     "ename": "RuntimeError",
     "evalue": "Failed to converge after 50 iterations, value is nan.",
     "output_type": "error",
     "traceback": [
      "\u001b[1;31m---------------------------------------------------------------------------\u001b[0m",
      "\u001b[1;31mRuntimeError\u001b[0m                              Traceback (most recent call last)",
      "Cell \u001b[1;32mIn[340], line 1\u001b[0m\n\u001b[1;32m----> 1\u001b[0m p1 \u001b[38;5;241m=\u001b[39m newton(func \u001b[38;5;241m=\u001b[39m \u001b[38;5;28;01mlambda\u001b[39;00m x : x\u001b[38;5;241m*\u001b[39m\u001b[38;5;241m*\u001b[39m(\u001b[38;5;241m1\u001b[39m\u001b[38;5;241m/\u001b[39m\u001b[38;5;241m3\u001b[39m) \u001b[38;5;241m+\u001b[39m \u001b[38;5;241m1\u001b[39m, x0 \u001b[38;5;241m=\u001b[39m \u001b[38;5;241m1\u001b[39m)\n\u001b[0;32m      2\u001b[0m \u001b[38;5;28mprint\u001b[39m(p1)\n",
      "File \u001b[1;32m~\\anaconda3\\Lib\\site-packages\\scipy\\optimize\\_zeros_py.py:384\u001b[0m, in \u001b[0;36mnewton\u001b[1;34m(func, x0, fprime, args, tol, maxiter, fprime2, x1, rtol, full_output, disp)\u001b[0m\n\u001b[0;32m    381\u001b[0m \u001b[38;5;28;01mif\u001b[39;00m disp:\n\u001b[0;32m    382\u001b[0m     msg \u001b[38;5;241m=\u001b[39m (\u001b[38;5;124m\"\u001b[39m\u001b[38;5;124mFailed to converge after \u001b[39m\u001b[38;5;132;01m%d\u001b[39;00m\u001b[38;5;124m iterations, value is \u001b[39m\u001b[38;5;132;01m%s\u001b[39;00m\u001b[38;5;124m.\u001b[39m\u001b[38;5;124m\"\u001b[39m\n\u001b[0;32m    383\u001b[0m            \u001b[38;5;241m%\u001b[39m (itr \u001b[38;5;241m+\u001b[39m \u001b[38;5;241m1\u001b[39m, p))\n\u001b[1;32m--> 384\u001b[0m     \u001b[38;5;28;01mraise\u001b[39;00m \u001b[38;5;167;01mRuntimeError\u001b[39;00m(msg)\n\u001b[0;32m    386\u001b[0m \u001b[38;5;28;01mreturn\u001b[39;00m _results_select(full_output, (p, funcalls, itr \u001b[38;5;241m+\u001b[39m \u001b[38;5;241m1\u001b[39m, _ECONVERR))\n",
      "\u001b[1;31mRuntimeError\u001b[0m: Failed to converge after 50 iterations, value is nan."
     ]
    }
   ],
   "source": [
    "p1 = newton(func = lambda x : x**(1/3) + 1, x0 = 1)\n",
    "print(p1)"
   ]
  },
  {
   "cell_type": "markdown",
   "id": "09a68324-21dd-4632-a757-94228ddae5f0",
   "metadata": {},
   "source": [
    "\n",
    "En el caso de los dos, existe el error de no convergencia, básicamente dado por el cero. Además, hay que esclarecer que la única raíz existente para esa función, también es un punto de inflexión. Por último, la raíz tiene una pendiente igual a cero 0.\n"
   ]
  }
 ],
 "metadata": {
  "kernelspec": {
   "display_name": "Python 3 (ipykernel)",
   "language": "python",
   "name": "python3"
  },
  "language_info": {
   "codemirror_mode": {
    "name": "ipython",
    "version": 3
   },
   "file_extension": ".py",
   "mimetype": "text/x-python",
   "name": "python",
   "nbconvert_exporter": "python",
   "pygments_lexer": "ipython3",
   "version": "3.11.7"
  }
 },
 "nbformat": 4,
 "nbformat_minor": 5
}
