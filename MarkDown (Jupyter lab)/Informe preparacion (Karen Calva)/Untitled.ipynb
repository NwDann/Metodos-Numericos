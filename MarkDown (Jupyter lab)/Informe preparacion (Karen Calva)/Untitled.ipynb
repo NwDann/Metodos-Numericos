{
 "cells": [
  {
   "cell_type": "raw",
   "id": "a0080fc5-36f1-4510-accb-be3c11dfe85d",
   "metadata": {},
   "source": [
    "---\n",
    "title: \"Informe\"\n",
    "author: \"Danny Iñaguazo\"\n",
    "lang: es\n",
    "format: \n",
    "  pdf:\n",
    "    toc: true\n",
    "    toc-title: \"Tabla de Contenidos\"  \n",
    "execute:\n",
    "  echo: true\n",
    "  error: false\n",
    "  warning: false\n",
    "jupyter: python3\n",
    "bibliography: ref.bib\n",
    "link-citations: true\n",
    "---"
   ]
  },
  {
   "cell_type": "markdown",
   "id": "172ee67e-47fc-4df5-8b84-74c903851805",
   "metadata": {},
   "source": [
    "# Objetivos\n",
    "1. Comprender los fundamentos teóricos y prácticos del análisis de datos, incluyendo técnicas de limpieza, exploración y modelado, mediante la participación en cursos en línea y la aplicación de los conocimientos adquiridos en proyectos personales.\n",
    "\n",
    "| $$E$$           | $$F$$           |\n",
    "|-----------------|-----------------|\n",
    "\n",
    "2. Establecer conexiones con profesionales de la industria de la ciencia de datos a través de redes sociales y eventos de la comunidad, con el fin de obtener información sobre las tendencias, desafíos y mejores prácticas en el campo, y aprovechar estas relaciones para obtener orientación y posibles oportunidades de colaboración o mentoría."
   ]
  },
  {
   "cell_type": "markdown",
   "id": "9566c31a-b462-454f-b6b3-faa982de04c4",
   "metadata": {},
   "source": [
    "# Introducción\n",
    "En un mundo cada vez más impulsado por los datos, el papel del científico de datos se ha convertido en una pieza para la toma de decisiones estratégicas y el desarrollo de soluciones innovadoras. Profesionales como Karen Calva, con una sólida formación en ciencia de datos y una amplia experiencia en el ámbito tecnológico y fintech, ejemplifican el potencial transformador de esta disciplina. A través de su trabajo, no solo demuestran la capacidad de extraer conocimientos valiosos de conjuntos de datos complejos, sino que también juegan un papel crucial en la definición del rumbo de las empresas y la creación de impacto en la sociedad. En este contexto, explorar y comprender las habilidades y perspectivas de un científico de datos se vuelve fundamental para aquellos interesados en este ámbito."
   ]
  },
  {
   "cell_type": "markdown",
   "id": "b4515c4e-965d-4536-9d79-0ad732863648",
   "metadata": {},
   "source": [
    "# Investigación\n",
    "\n",
    "## Científico de datos multifacético\n",
    "El trabajo de un científico de datos es multifacético y altamente demandante. En resumen, implica recolectar, limpiar, analizar y visualizar grandes conjuntos de datos para extraer información significativa y tomar decisiones informadas. Esto puede incluir tareas como la creación y validación de modelos predictivos utilizando técnicas de aprendizaje automático y estadísticas, la identificación de patrones y tendencias en los datos, la optimización de algoritmos para mejorar el rendimiento y la escalabilidad, y la comunicación de los hallazgos a diferentes audiencias, desde equipos técnicos hasta líderes empresariales [@calva2021modelo]. Además, los científicos de datos suelen trabajar en estrecha colaboración con otros profesionales, como ingenieros de datos y desarrolladores de software, para implementar soluciones técnicas y garantizar la integridad y la seguridad de los datos.\n",
    "\n",
    "## Requisitos comúnmente solicitados para un Científico de Datos\n",
    "1. Título universitario en Ciencias de la Computación, Matemáticas, Estadísticas o campo relacionado.\n",
    "2. Experiencia en programación en Python y/o R.\n",
    "3. Conocimiento profundo de algoritmos de aprendizaje automático y estadísticas.\n",
    "3. Experiencia práctica con herramientas de ciencia de datos como TensorFlow, PyTorch, scikit-learn, etc.\n",
    "4. Capacidad para trabajar con grandes conjuntos de datos y aplicar técnicas de limpieza y preprocesamiento.\n",
    "5. Habilidades de comunicación efectiva y capacidad para trabajar en equipo.\n",
    "\n",
    "## Empresa Kushki\n",
    "Kushki es una empresa fintech con sede en Ecuador que se especializa en soluciones de pago digital para empresas en América Latina. Fundada en 2017, Kushki se ha destacado por su enfoque en la innovación tecnológica y la inclusión financiera, ofreciendo una plataforma integral que permite a las empresas aceptar pagos en línea de manera rápida, segura y conveniente. Con un equipo diverso de expertos en tecnología y finanzas, Kushki se ha convertido en un líder en el mercado de pagos digitales en la región, brindando soluciones personalizadas y escalables que satisfacen las necesidades específicas de sus clientes [@olmedo2023analisis].\n",
    "\n",
    "## Karen Calva\n",
    "Es una profesional destacada en el campo de las finanzas y la tecnología, con una amplia experiencia en el desarrollo e implementación de soluciones de pago digital [@calva2021modelo]. Actualmente, se desempeña como directora de operaciones en Kushki, donde lidera estratégicamente la ejecución de proyectos clave y la expansión de la empresa en nuevos mercados. Con una sólida formación en ingeniería informática e innovación, Karen ha demostrado ser una líder visionaria y un catalizador para el crecimiento de Kushki, impulsando iniciativas que han fortalecido su posición como líder en el sector fintech en América Latina.\n",
    "\n",
    "## Preguntas interesantes para la invitada\n",
    "1. ¿Cuál consideras que ha sido el mayor desafío tecnológico que has enfrentado en Kushki y cómo lo superaste?\n",
    "2. Como directora de operaciones, ¿cuál es tu visión para el futuro de la industria de pagos digitales en América Latina?\n",
    "3. ¿Cómo ha evolucionado el panorama regulatorio en la región y qué impacto ha tenido en la estrategia de crecimiento de Kushki?\n",
    "4. ¿Cuál crees que es el papel de la inteligencia artificial y el aprendizaje automático en el desarrollo de soluciones de pago digital más avanzadas y seguras?\n",
    "5. ¿Qué consejos darías a los profesionales jóvenes que aspiran a una carrera exitosa en el campo de la tecnología financiera y los pagos digitales?"
   ]
  },
  {
   "cell_type": "markdown",
   "id": "eb6321dc-df38-4514-ba3d-6bcd4b179382",
   "metadata": {
    "tags": []
   },
   "source": [
    "# Conclusiones\n",
    "1. La labor del científico de datos refleja el impacto significativo que esta disciplina tiene en la innovación tecnológica y el desarrollo empresarial en la era de los datos.\n",
    "2. La experiencia y habilidades de profesionales demuestran la importancia de la formación sólida en ciencia de datos para enfrentar los desafíos y aprovechar las oportunidades en un entorno empresarial cada vez más orientado hacia la analítica de datos.\n",
    "3. Explorar el trabajo de expertos en ciencia de datos como ofrece una vista para comprender las tendencias emergentes, los avances tecnológicos y las mejores prácticas que impulsan el éxito en el ámbito de la inteligencia de negocios y la toma de decisiones basada en datos."
   ]
  },
  {
   "cell_type": "markdown",
   "id": "2d9eae17-4a92-4396-856b-8831dad854c6",
   "metadata": {
    "tags": []
   },
   "source": [
    "# Referencias"
   ]
  }
 ],
 "metadata": {
  "kernelspec": {
   "display_name": "Python 3 (ipykernel)",
   "language": "python",
   "name": "python3"
  },
  "language_info": {
   "codemirror_mode": {
    "name": "ipython",
    "version": 3
   },
   "file_extension": ".py",
   "mimetype": "text/x-python",
   "name": "python",
   "nbconvert_exporter": "python",
   "pygments_lexer": "ipython3",
   "version": "3.11.7"
  }
 },
 "nbformat": 4,
 "nbformat_minor": 5
}
