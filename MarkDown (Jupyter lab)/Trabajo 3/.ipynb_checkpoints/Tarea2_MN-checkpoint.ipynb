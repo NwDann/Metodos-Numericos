{
 "cells": [
  {
   "cell_type": "raw",
   "id": "3d62b784-9b8b-40f0-97b6-2dd178c1b00c",
   "metadata": {},
   "source": [
    "---\n",
    "title: \"Tarea 2\"\n",
    "author: \"Danny Iñaguazo\"\n",
    "lang: es\n",
    "format: \n",
    "  pdf:\n",
    "    toc: true\n",
    "    toc-title: \"Tabla de Contenidos\"  \n",
    "execute:\n",
    "  echo: true\n",
    "  error: false\n",
    "  warning: false\n",
    "jupyter: python3\n",
    "---"
   ]
  },
  {
   "cell_type": "markdown",
   "id": "a6edd086-8b9f-44a6-944b-113f5ecd9e7c",
   "metadata": {},
   "source": [
    "# Ejercicios\n",
    "\n",
    "## 1. Aritmética de corte\n",
    "\n",
    "Utilice aritmética de corte de tres dígitos para calcular las siguientes sumas. Para cada parte, ¿qué método es \n",
    "más preciso y por qué? \n",
    "\n",
    "### Literal a)\n",
    "\n",
    "El siguiente código en python produce la suma exacta de esta función.\n",
    "$$\\sum_{i=1}^{10} \\frac{1}{i^2} $$"
   ]
  },
  {
   "cell_type": "code",
   "execution_count": 41,
   "id": "2e8394ef-898c-4a2c-ad58-83fdae317230",
   "metadata": {
    "tags": []
   },
   "outputs": [
    {
     "name": "stdout",
     "output_type": "stream",
     "text": [
      "1.5497677311665408\n"
     ]
    }
   ],
   "source": [
    "sum = 0\n",
    "for i in range (1, 11):\n",
    "    sum += 1 / (i ** 2)\n",
    "\n",
    "print(sum)"
   ]
  },
  {
   "cell_type": "markdown",
   "id": "318fba68-8384-432a-9bf8-2640be51a907",
   "metadata": {},
   "source": [
    "Ahora, el código siguiente se encarga de redondear a 3 dígitos cada vez que se itera:"
   ]
  },
  {
   "cell_type": "code",
   "execution_count": 37,
   "id": "cc5a29ec-472d-48c2-ad8b-d780a6e21398",
   "metadata": {
    "tags": []
   },
   "outputs": [
    {
     "name": "stdout",
     "output_type": "stream",
     "text": [
      "1.5300000000000002\n"
     ]
    }
   ],
   "source": [
    "sum = 0\n",
    "for i in range (1, 11):\n",
    "    sum += (1 * 100) // (i ** 2) / 100\n",
    "\n",
    "print(sum)"
   ]
  },
  {
   "cell_type": "markdown",
   "id": "a1a17f4f-a32c-4a68-8608-280ad679ed4a",
   "metadata": {},
   "source": [
    "### Literal b)\n",
    "\n",
    "El siguiente código en python produce la suma exacta de esta función.\n",
    "$$\\sum_{i=1}^{10} \\frac{1}{i^3}$$"
   ]
  },
  {
   "cell_type": "code",
   "execution_count": 43,
   "id": "c8ad5e8f-1614-423b-baa6-61f608436d1c",
   "metadata": {
    "tags": []
   },
   "outputs": [
    {
     "name": "stdout",
     "output_type": "stream",
     "text": [
      "1.197531985674193\n"
     ]
    }
   ],
   "source": [
    "sum = 0\n",
    "for i in range (1, 11):\n",
    "    sum += 1 / (i ** 3)\n",
    "\n",
    "print(sum)"
   ]
  },
  {
   "cell_type": "markdown",
   "id": "e4a25583-456b-4687-821e-acc4bf851945",
   "metadata": {},
   "source": [
    "Ahora, el código siguiente se encarga de redondear a 3 dígitos cada vez que se itera:"
   ]
  },
  {
   "cell_type": "code",
   "execution_count": 47,
   "id": "0bfae100-9a54-487c-8ee9-04c9843c4147",
   "metadata": {
    "tags": []
   },
   "outputs": [
    {
     "name": "stdout",
     "output_type": "stream",
     "text": [
      "1.1600000000000001\n"
     ]
    }
   ],
   "source": [
    "sum = 0\n",
    "for i in range (1, 11):\n",
    "    sum += (1 * 100) // (i ** 3) / 100\n",
    "\n",
    "print(sum)"
   ]
  },
  {
   "cell_type": "markdown",
   "id": "dea9456d-d5d8-4aec-a5c7-427078a047ea",
   "metadata": {},
   "source": [
    "### Conclusiones\n",
    "\n",
    "En el literal a) claramente se puede observar la mínima distancia que tiene el resultado real con el redondeado, por lo que el primer metodo es el más efectivo. \n",
    "\n",
    "## 2. La serie de Maclaurin\n",
    "\n",
    "La serie de Maclaurin para la función arcotangente converge para $-1 < x \\leq 1$ y está dada por:\n",
    "$$\\arctan{x} = \\lim_{n\\rightarrow\\infty}P_n(x) = \\lim_{n\\rightarrow\\infty}\\sum_{i=1}^{n}(-1)^{i+1}\\frac{x^{2i-1}}{2i-1}$$\n",
    "\n",
    "### Literal a)\n",
    "\n",
    "Utilice el hecho de que $\\tan{\\frac{\\pi}{4}} = 1$ para determinar el número $n$ de términos de la serie que se necesita \n",
    "sumar para garantizar que $|4P_n(1) - \\pi|< 10^{-3}$\n",
    "\n",
    "Entonces, dado que $\\arctan{1} = \\frac{\\pi}{4}$ con $x = 1$, reemplazando:\n",
    "$$\\frac{\\pi}{4} = \\sum_{i=1}^{n}(-1)^{i+1}\\frac{1^{2i-1}}{2i-1}$$"
   ]
  },
  {
   "cell_type": "code",
   "execution_count": 69,
   "id": "ad1190fd-6f61-45af-ad76-ab08883cb7c6",
   "metadata": {
    "tags": []
   },
   "outputs": [
    {
     "name": "stdout",
     "output_type": "stream",
     "text": [
      "0.7853981633974483\n"
     ]
    }
   ],
   "source": [
    "# Valor al que la sumatoria debe acercarse\n",
    "import math\n",
    "x = math.pi / 4\n",
    "print(x)"
   ]
  },
  {
   "cell_type": "markdown",
   "id": "61f82ef4-2408-4b2e-a0ce-9d8485f02f51",
   "metadata": {},
   "source": [
    "Ahora, se presenta el código que calcula la sumatoria para cierto número $n$:"
   ]
  },
  {
   "cell_type": "code",
   "execution_count": 147,
   "id": "f361a8e8-fa91-48d8-93a7-29f39d8f8c93",
   "metadata": {
    "tags": []
   },
   "outputs": [
    {
     "name": "stdout",
     "output_type": "stream",
     "text": [
      "0.7851481634599485\n"
     ]
    }
   ],
   "source": [
    "sum = 0\n",
    "n = 1000\n",
    "for i in range(1, n + 1):\n",
    "    sum += ((-1) ** (i + 1)) * (1 ** (2*i - 1)/(2*i - 1))\n",
    "print(sum)"
   ]
  },
  {
   "cell_type": "markdown",
   "id": "4c18e6ad-1dcc-45ad-bc75-4498b449e2b2",
   "metadata": {},
   "source": [
    "Mediante prueba y acercamiento, se encontró el valor $n = 1000$ para el cual, la función se acerca al valor $\\frac{\\pi}{4}$.\n",
    "\n",
    "Por tanto, $P_{1000}(1) = 0.78514...$. \n",
    "\n",
    "Comprobemos si cumple la condición:\n",
    "$$|4P_{22}(1) - \\pi|< 10^{-3}$$"
   ]
  },
  {
   "cell_type": "code",
   "execution_count": 149,
   "id": "192a6b10-fabe-4900-a733-ad0eb5fe1a7e",
   "metadata": {
    "tags": []
   },
   "outputs": [
    {
     "name": "stdout",
     "output_type": "stream",
     "text": [
      "0.000999999749998981\n",
      "True\n"
     ]
    }
   ],
   "source": [
    "total = abs(4*sum - math.pi)\n",
    "print(total)\n",
    "print(total < 10**(-3))"
   ]
  },
  {
   "cell_type": "markdown",
   "id": "1c9c4af9-4afa-41c7-a59d-7d38a8814ca0",
   "metadata": {},
   "source": [
    "En la función print() directamente se hizo la comprobación sobre la inecuación con los valores dados.\n",
    "\n",
    "### Literal b)\n",
    "\n",
    "El lenguaje de programación C++ requiere que el valor de $\\pi$ se encuentre dentro de $10^{-10}$. ¿Cuántos \n",
    "términos de la serie se necesitarían sumar para obtener este grado de precisión? \n",
    "\n",
    "Respuesta: Para este caso, se necesitaría hacer una suma infinita de la función $P_n(\\pi)$. Esto se debe a que la tangente de $\\pi$ no está definida.\n",
    "\n",
    "## 3. Pi\n",
    "\n",
    "Otra fórmula para calcular $\\pi$ se puede deducir a partir de la identidad: $\\frac{\\pi}{4} = 4\\arctan{\\frac{1}{5}} - \\arctan{\\frac{1}{239}}$. Determine el número de términos que se deben sumar para garantizar una aproximación $\\pi$ dentro de $10^{-3}$. \n",
    "\n",
    "Para resolver este ejercicio, despejamos el número 4 de la izquierda, quedándonos:\n",
    "\n",
    "$$\\pi = \\frac{4\\arctan{\\frac{1}{5}} - \\arctan{\\frac{1}{239}}}{4}$$\n",
    "Ahora, el siguiente código cumple con la suma de esta funcion con un parámetro n"
   ]
  },
  {
   "cell_type": "code",
   "execution_count": 192,
   "id": "645d7294-9926-4879-ae3e-23a6e206fce3",
   "metadata": {
    "tags": []
   },
   "outputs": [
    {
     "name": "stdout",
     "output_type": "stream",
     "text": [
      "3.1415926535897944\n",
      "1.3322676295501878e-15\n"
     ]
    }
   ],
   "source": [
    "from numpy import arctan\n",
    "sum = 0\n",
    "n = 16\n",
    "for i in range (1, n + 1):\n",
    "    sum += (4*arctan(1 / 5) - arctan(1/239)) / 4\n",
    "print(sum)\n",
    "print(abs(math.pi - sum))"
   ]
  },
  {
   "cell_type": "markdown",
   "id": "ddadcccc-d45c-457b-9022-845cf5771f9a",
   "metadata": {},
   "source": [
    "Encontramos a $n = 16$, sin embargo la aproximación de $\\pi$ tiene una distancia muy pequeña con el valor real de $10^{-15}$.\n",
    "\n",
    "## 4. Algoritmos\n",
    "\n",
    "Compare los siguientes tres algoritmos. ¿Cuándo es correcto el algoritmo de la parte 1a?\n",
    "\n",
    "    a. ENTRADA 𝑛,𝑥1,𝑥2,⋯,𝑥𝑛. \n",
    "    SALIDA PRODUCT. \n",
    "    Paso 1 Determine PRODUCT = 0. \n",
    "    Paso 2 Para 𝑖 = 1,2,⋯,𝑛 haga \n",
    "    Determine PRODUCT = PRODUCT∗𝑥𝑖. \n",
    "    Paso 3 SALIDA PRODUCT; \n",
    "    PARE. \n",
    "    \n",
    "    b. ENTRADA 𝑛,𝑥1,𝑥2,⋯,𝑥𝑛. \n",
    "    SALIDA PRODUCT. \n",
    "    Paso 1 Determine PRODUCT = 1. \n",
    "    Paso 2 Para 𝑖 = 1,2,⋯,𝑛 haga \n",
    "    Set PRODUCT = PRODUCT∗𝑥𝑖. \n",
    "    Paso 3 SALIDA PRODUCT; \n",
    "    PARE. \n",
    "    \n",
    "    c. ENTRADA 𝑛,𝑥1,𝑥2,⋯,𝑥𝑛. \n",
    "    SALIDA PRODUCT. \n",
    "    Paso 1 Determine PRODUCT = 1. \n",
    "    Paso 2 Para 𝑖 = 1,2,⋯,𝑛 haga \n",
    "    si 𝑥𝑖=0 entonces determine PRODUCT = 0; \n",
    "    SALIDA PRODUCT; \n",
    "    PARE \n",
    "    Determine PRODUCT = PRODUCT∗𝑥𝑖. \n",
    "    Paso 3 SALIDA PRODUCT; \n",
    "    PARE.\n",
    "\n",
    "Respuesta: En realidad no sería muy correcto, ya que el producto tiene como valor cero. El algoritmo calcula el producto de todos los componentes de un vector pero esta función siempre retornará cero.\n",
    "\n",
    "## 5. Sumas y Multiplicaciones\n",
    "\n",
    "### Literal a)\n",
    "\n",
    "¿Cuántas multiplicaciones y sumas se requieren para determinar una suma de la forma:\n",
    "\n",
    "$$\\sum_{i=1}^{n} \\sum_{j=1}^{i}a_ib_j$$ \n",
    "\n",
    "Respuesta: Se requieren $\\sum_{i=1}^{n}i$ multiplicaciones y $\\frac{n(n+1)}{2}$ sumas en total.\n",
    "\n"
   ]
  },
  {
   "cell_type": "markdown",
   "id": "5a15dcfa-2442-44b9-8d0d-87421d1e9c00",
   "metadata": {},
   "source": [
    "### Literal b)\n",
    "\n",
    "Modifique la suma en la parte a) a un formato equivalente que reduzca el número de cálculos.\n",
    "\n",
    "1. Linealidad de sumatoria: $ = \\sum_{i=1}^{n} (a_i \\sum_{j=1}^{i}b_j)$\n",
    "2. Suma de una progresión aritmética: $\\sum_{i=1}^{n}a_i \\cdot \\frac{i(i+1)}{2}$\n",
    "3. Reagrupación: $\\sum_{i=1}^{n} \\frac{i(i+1)}{2}a_i$\n",
    "\n",
    "# Discusiones\n",
    "\n",
    "### 1. Algoritmo II\n",
    "\n",
    "Escriba un algoritmo para sumar la serie finita $\\sum_{i=1}^{n}x_i$ en orden inverso. \n",
    "\n",
    "El siguiente algoritmo cumple con lo solicitado:"
   ]
  },
  {
   "cell_type": "code",
   "execution_count": 31,
   "id": "3fdc9a60-b474-466a-a59b-adf977afa253",
   "metadata": {
    "tags": []
   },
   "outputs": [
    {
     "name": "stdout",
     "output_type": "stream",
     "text": [
      "8\n"
     ]
    }
   ],
   "source": [
    "x = [1, 2, 3] # Lista a sumar de manera inversa\n",
    "sum = 0\n",
    "n = len(x)\n",
    "for i in range (1, n + 1):\n",
    "    sum += x[(n - i)]\n",
    "    \n",
    "print(sum)"
   ]
  },
  {
   "cell_type": "markdown",
   "id": "bc50ae6d-7b6f-4ba8-8760-a665968ae005",
   "metadata": {},
   "source": [
    "### 2. Raíces\n",
    "\n",
    "Construya un algoritmo con entrada a, b y c y salida $x_1$, $x_2$ que calcule las raíces $x_1$ y $x_2$ (que pueden ser iguales con conjugados complejos) mediante la mejor fórmula para cada raíz."
   ]
  },
  {
   "cell_type": "code",
   "execution_count": 46,
   "id": "3a2bda07-406a-4f1a-9229-584a0b7cd2c3",
   "metadata": {
    "tags": []
   },
   "outputs": [],
   "source": [
    "def raices(a : float, b : float, c : float) -> tuple[float, float] | float | tuple[complex, complex]:\n",
    "    discriminante = b**2 - 4*a*c\n",
    "    \n",
    "    if (discriminante == 0):\n",
    "        raiz = (-b + (discriminante)**0.5) / 2*a\n",
    "        return raiz\n",
    "    \n",
    "    elif (discriminante > 0):\n",
    "        raiz1 = (-b + (discriminante)**0.5) / 2*a\n",
    "        raiz2 = (-b - (discriminante)**0.5) / 2*a\n",
    "        return raiz1, raiz2\n",
    "    \n",
    "    else:\n",
    "        raiz1 = complex(-b / 2*a, (abs(discriminante))**0.5 * 100 // 2*a / 100)\n",
    "        raiz2 = complex(-b / 2*a, -(abs(discriminante))**0.5 * 100 // 2*a / 100)\n",
    "        return raiz1, raiz2\n",
    "    "
   ]
  },
  {
   "cell_type": "code",
   "execution_count": 48,
   "id": "92174bf6-88a8-4467-a1ed-4bef4be93236",
   "metadata": {
    "tags": []
   },
   "outputs": [
    {
     "name": "stdout",
     "output_type": "stream",
     "text": [
      "La/s raiz/ices de la ecuacion cuadratica es/son:  ((1.5+1.05j), (1.5-1.065j))\n"
     ]
    }
   ],
   "source": [
    "resultado = raices(1.5, -2, 1)\n",
    "print('La/s raiz/ices de la ecuacion cuadratica es/son: ', resultado)"
   ]
  },
  {
   "cell_type": "markdown",
   "id": "99acdfe7-fb88-40da-9c01-de5de221cd95",
   "metadata": {},
   "source": [
    "Las celdas anteriores muestran el código que se utilizó para la creación de una calculadora de raíces en el que se usan tuplas.\n",
    "\n",
    "### 3. Serie\n",
    "\n",
    "Escriba y ejecute un algoritmo que determine el número de términos necesarios en el lado izquierdo de la ecuación de tal forma que el lado izquierdo difiera del lado derecho en menos de $10^{-6}$.\n",
    "\n",
    "$$\\frac{1 - 2x}{1 - x + x^2} + \\frac{2x - 4x^3}{1 - x^2 + x^4} + \\frac{4x^3 - 8x^7}{1 - x^4 + x^8} .. =  \\frac{1 + 2x}{1 + x + x^2}$$\n",
    "\n",
    "para $x < 1$ y si $x = 0.25$."
   ]
  },
  {
   "cell_type": "code",
   "execution_count": 63,
   "id": "91ef261a-8cf6-43c1-9121-03c7d111de0e",
   "metadata": {
    "tags": []
   },
   "outputs": [],
   "source": [
    "def calcular_lado_izquierdo(x):\n",
    "    suma_lado_izquierdo = 0.0\n",
    "    termino = 1\n",
    "    denominador = 1.0\n",
    "    while True:\n",
    "        suma_lado_izquierdo += (2.0**(termino - 1) * x**(2*termino - 1)) / denominador\n",
    "        if abs(suma_lado_izquierdo - (1 + 2*x) / (1 + x + x**2)) < 1e-6:\n",
    "            break\n",
    "        termino += 1\n",
    "        denominador *= 1 - x**(2*termino)\n",
    "    return termino"
   ]
  }
 ],
 "metadata": {
  "kernelspec": {
   "display_name": "Python 3 (ipykernel)",
   "language": "python",
   "name": "python3"
  },
  "language_info": {
   "codemirror_mode": {
    "name": "ipython",
    "version": 3
   },
   "file_extension": ".py",
   "mimetype": "text/x-python",
   "name": "python",
   "nbconvert_exporter": "python",
   "pygments_lexer": "ipython3",
   "version": "3.11.7"
  }
 },
 "nbformat": 4,
 "nbformat_minor": 5
}
